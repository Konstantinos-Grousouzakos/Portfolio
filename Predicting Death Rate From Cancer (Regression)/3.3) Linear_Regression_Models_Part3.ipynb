{
 "cells": [
  {
   "cell_type": "markdown",
   "id": "910ce941",
   "metadata": {},
   "source": [
    "# LINEAR REGRESSION MODELS PART 3"
   ]
  },
  {
   "cell_type": "markdown",
   "id": "1b548e39",
   "metadata": {},
   "source": [
    "## CONTENTS\n",
    "\n",
    "__1.INTRODUCTION__\n",
    "\n",
    "__2.LIBRARIES AND DATA__\n",
    "       \n",
    "__3.PREPROCESSING__\n",
    "\n",
    "__4.RIDGE REGRESSION__\n",
    "             \n",
    "__5.LASSO REGRESSION__\n",
    "\n",
    "__6.RESULTS__\n"
   ]
  },
  {
   "cell_type": "markdown",
   "id": "c37f1566",
   "metadata": {},
   "source": [
    "## 1. INTRODUCTION"
   ]
  },
  {
   "cell_type": "markdown",
   "id": "c1f67b09",
   "metadata": {},
   "source": [
    "In this Jupyter Notebook, we'll delve into the implementation of the shrinkage methods Ridge and Lasso. Essentially, these techniques can be viewed as a form of variable selection since they have the tendency to zero out coefficients associated with redundant predictors. So, once again, we're effectively engaging in a form of variable selection through the application of these shrinkage methods."
   ]
  },
  {
   "cell_type": "markdown",
   "id": "e99231df",
   "metadata": {},
   "source": [
    "## 2. LIBRARIES AND DATA"
   ]
  },
  {
   "cell_type": "markdown",
   "id": "a1023abe",
   "metadata": {},
   "source": [
    "__Libraries__"
   ]
  },
  {
   "cell_type": "code",
   "execution_count": 1,
   "id": "05ea63d0",
   "metadata": {},
   "outputs": [],
   "source": [
    "import pandas as pd\n",
    "import numpy as np\n",
    "from numpy import arange\n",
    "import seaborn as sns\n",
    "import matplotlib.pyplot as plt\n",
    "\n",
    "from sklearn.linear_model import Ridge, Lasso\n",
    "from sklearn.model_selection import KFold, cross_val_score\n",
    "from sklearn.model_selection import GridSearchCV\n",
    "from sklearn.metrics import mean_squared_error\n",
    "from sklearn.preprocessing import StandardScaler\n",
    "\n",
    "import warnings\n",
    "warnings.simplefilter(action='ignore', category=FutureWarning)\n",
    "\n",
    "pd.set_option('display.max_columns', 100)"
   ]
  },
  {
   "cell_type": "markdown",
   "id": "19e70065",
   "metadata": {},
   "source": [
    "__Importing data__"
   ]
  },
  {
   "cell_type": "code",
   "execution_count": 2,
   "id": "287f7120",
   "metadata": {},
   "outputs": [],
   "source": [
    "data1 = pd.read_csv(\"train_dataset.csv\") \n",
    "data2 = pd.read_csv(\"test_dataset.csv\") \n",
    "\n",
    "# Train and test Dataset\n",
    "train_df = data1.copy()\n",
    "test_df = data2.copy()"
   ]
  },
  {
   "cell_type": "code",
   "execution_count": 3,
   "id": "11909eff",
   "metadata": {},
   "outputs": [
    {
     "data": {
      "text/html": [
       "<div>\n",
       "<style scoped>\n",
       "    .dataframe tbody tr th:only-of-type {\n",
       "        vertical-align: middle;\n",
       "    }\n",
       "\n",
       "    .dataframe tbody tr th {\n",
       "        vertical-align: top;\n",
       "    }\n",
       "\n",
       "    .dataframe thead th {\n",
       "        text-align: right;\n",
       "    }\n",
       "</style>\n",
       "<table border=\"1\" class=\"dataframe\">\n",
       "  <thead>\n",
       "    <tr style=\"text-align: right;\">\n",
       "      <th></th>\n",
       "      <th>avgAnnCount</th>\n",
       "      <th>avgDeathsPerYear</th>\n",
       "      <th>TARGET_deathRate</th>\n",
       "      <th>incidenceRate</th>\n",
       "      <th>medIncome</th>\n",
       "      <th>popEst2015</th>\n",
       "      <th>povertyPercent</th>\n",
       "      <th>studyPerCap</th>\n",
       "      <th>binnedInc</th>\n",
       "      <th>MedianAge</th>\n",
       "      <th>MedianAgeMale</th>\n",
       "      <th>MedianAgeFemale</th>\n",
       "      <th>AvgHouseholdSize</th>\n",
       "      <th>PercentMarried</th>\n",
       "      <th>PctNoHS18_24</th>\n",
       "      <th>PctHS18_24</th>\n",
       "      <th>PctBachDeg18_24</th>\n",
       "      <th>PctHS25_Over</th>\n",
       "      <th>PctBachDeg25_Over</th>\n",
       "      <th>PctEmployed16_Over</th>\n",
       "      <th>PctUnemployed16_Over</th>\n",
       "      <th>PctPrivateCoverage</th>\n",
       "      <th>PctEmpPrivCoverage</th>\n",
       "      <th>PctPublicCoverage</th>\n",
       "      <th>PctPublicCoverageAlone</th>\n",
       "      <th>PctWhite</th>\n",
       "      <th>PctBlack</th>\n",
       "      <th>PctAsian</th>\n",
       "      <th>PctOtherRace</th>\n",
       "      <th>PctMarriedHouseholds</th>\n",
       "      <th>BirthRate</th>\n",
       "      <th>Geography_EAST</th>\n",
       "      <th>Geography_WEST</th>\n",
       "    </tr>\n",
       "  </thead>\n",
       "  <tbody>\n",
       "    <tr>\n",
       "      <th>0</th>\n",
       "      <td>245.0</td>\n",
       "      <td>95</td>\n",
       "      <td>196.0</td>\n",
       "      <td>535.2</td>\n",
       "      <td>46870</td>\n",
       "      <td>33642</td>\n",
       "      <td>14.4</td>\n",
       "      <td>0.0</td>\n",
       "      <td>46611.30</td>\n",
       "      <td>42.0</td>\n",
       "      <td>40.4</td>\n",
       "      <td>44.3</td>\n",
       "      <td>2.31</td>\n",
       "      <td>51.1</td>\n",
       "      <td>17.2</td>\n",
       "      <td>43.0</td>\n",
       "      <td>4.7</td>\n",
       "      <td>44.1</td>\n",
       "      <td>9.6</td>\n",
       "      <td>54.6</td>\n",
       "      <td>5.4</td>\n",
       "      <td>70.2</td>\n",
       "      <td>46.0</td>\n",
       "      <td>38.5</td>\n",
       "      <td>19.5</td>\n",
       "      <td>96.374269</td>\n",
       "      <td>1.684211</td>\n",
       "      <td>0.526316</td>\n",
       "      <td>0.181287</td>\n",
       "      <td>47.898380</td>\n",
       "      <td>4.048468</td>\n",
       "      <td>0</td>\n",
       "      <td>0</td>\n",
       "    </tr>\n",
       "    <tr>\n",
       "      <th>1</th>\n",
       "      <td>241.0</td>\n",
       "      <td>112</td>\n",
       "      <td>182.4</td>\n",
       "      <td>408.4</td>\n",
       "      <td>36424</td>\n",
       "      <td>41459</td>\n",
       "      <td>18.8</td>\n",
       "      <td>0.0</td>\n",
       "      <td>35815.95</td>\n",
       "      <td>45.8</td>\n",
       "      <td>44.9</td>\n",
       "      <td>46.7</td>\n",
       "      <td>2.47</td>\n",
       "      <td>55.0</td>\n",
       "      <td>22.0</td>\n",
       "      <td>43.5</td>\n",
       "      <td>3.2</td>\n",
       "      <td>37.2</td>\n",
       "      <td>11.6</td>\n",
       "      <td>47.7</td>\n",
       "      <td>9.2</td>\n",
       "      <td>52.4</td>\n",
       "      <td>28.7</td>\n",
       "      <td>44.9</td>\n",
       "      <td>23.5</td>\n",
       "      <td>66.207829</td>\n",
       "      <td>0.304282</td>\n",
       "      <td>1.144679</td>\n",
       "      <td>1.113285</td>\n",
       "      <td>52.937625</td>\n",
       "      <td>4.550419</td>\n",
       "      <td>0</td>\n",
       "      <td>0</td>\n",
       "    </tr>\n",
       "  </tbody>\n",
       "</table>\n",
       "</div>"
      ],
      "text/plain": [
       "   avgAnnCount  avgDeathsPerYear  TARGET_deathRate  incidenceRate  medIncome  \\\n",
       "0        245.0                95             196.0          535.2      46870   \n",
       "1        241.0               112             182.4          408.4      36424   \n",
       "\n",
       "   popEst2015  povertyPercent  studyPerCap  binnedInc  MedianAge  \\\n",
       "0       33642            14.4          0.0   46611.30       42.0   \n",
       "1       41459            18.8          0.0   35815.95       45.8   \n",
       "\n",
       "   MedianAgeMale  MedianAgeFemale  AvgHouseholdSize  PercentMarried  \\\n",
       "0           40.4             44.3              2.31            51.1   \n",
       "1           44.9             46.7              2.47            55.0   \n",
       "\n",
       "   PctNoHS18_24  PctHS18_24  PctBachDeg18_24  PctHS25_Over  PctBachDeg25_Over  \\\n",
       "0          17.2        43.0              4.7          44.1                9.6   \n",
       "1          22.0        43.5              3.2          37.2               11.6   \n",
       "\n",
       "   PctEmployed16_Over  PctUnemployed16_Over  PctPrivateCoverage  \\\n",
       "0                54.6                   5.4                70.2   \n",
       "1                47.7                   9.2                52.4   \n",
       "\n",
       "   PctEmpPrivCoverage  PctPublicCoverage  PctPublicCoverageAlone   PctWhite  \\\n",
       "0                46.0               38.5                    19.5  96.374269   \n",
       "1                28.7               44.9                    23.5  66.207829   \n",
       "\n",
       "   PctBlack  PctAsian  PctOtherRace  PctMarriedHouseholds  BirthRate  \\\n",
       "0  1.684211  0.526316      0.181287             47.898380   4.048468   \n",
       "1  0.304282  1.144679      1.113285             52.937625   4.550419   \n",
       "\n",
       "   Geography_EAST  Geography_WEST  \n",
       "0               0               0  \n",
       "1               0               0  "
      ]
     },
     "execution_count": 3,
     "metadata": {},
     "output_type": "execute_result"
    }
   ],
   "source": [
    "train_df.head(2)"
   ]
  },
  {
   "cell_type": "code",
   "execution_count": 4,
   "id": "e325e053",
   "metadata": {},
   "outputs": [
    {
     "data": {
      "text/html": [
       "<div>\n",
       "<style scoped>\n",
       "    .dataframe tbody tr th:only-of-type {\n",
       "        vertical-align: middle;\n",
       "    }\n",
       "\n",
       "    .dataframe tbody tr th {\n",
       "        vertical-align: top;\n",
       "    }\n",
       "\n",
       "    .dataframe thead th {\n",
       "        text-align: right;\n",
       "    }\n",
       "</style>\n",
       "<table border=\"1\" class=\"dataframe\">\n",
       "  <thead>\n",
       "    <tr style=\"text-align: right;\">\n",
       "      <th></th>\n",
       "      <th>avgAnnCount</th>\n",
       "      <th>avgDeathsPerYear</th>\n",
       "      <th>TARGET_deathRate</th>\n",
       "      <th>incidenceRate</th>\n",
       "      <th>medIncome</th>\n",
       "      <th>popEst2015</th>\n",
       "      <th>povertyPercent</th>\n",
       "      <th>studyPerCap</th>\n",
       "      <th>binnedInc</th>\n",
       "      <th>MedianAge</th>\n",
       "      <th>MedianAgeMale</th>\n",
       "      <th>MedianAgeFemale</th>\n",
       "      <th>AvgHouseholdSize</th>\n",
       "      <th>PercentMarried</th>\n",
       "      <th>PctNoHS18_24</th>\n",
       "      <th>PctHS18_24</th>\n",
       "      <th>PctBachDeg18_24</th>\n",
       "      <th>PctHS25_Over</th>\n",
       "      <th>PctBachDeg25_Over</th>\n",
       "      <th>PctEmployed16_Over</th>\n",
       "      <th>PctUnemployed16_Over</th>\n",
       "      <th>PctPrivateCoverage</th>\n",
       "      <th>PctEmpPrivCoverage</th>\n",
       "      <th>PctPublicCoverage</th>\n",
       "      <th>PctPublicCoverageAlone</th>\n",
       "      <th>PctWhite</th>\n",
       "      <th>PctBlack</th>\n",
       "      <th>PctAsian</th>\n",
       "      <th>PctOtherRace</th>\n",
       "      <th>PctMarriedHouseholds</th>\n",
       "      <th>BirthRate</th>\n",
       "      <th>Geography_EAST</th>\n",
       "      <th>Geography_WEST</th>\n",
       "    </tr>\n",
       "  </thead>\n",
       "  <tbody>\n",
       "    <tr>\n",
       "      <th>0</th>\n",
       "      <td>104.0</td>\n",
       "      <td>46</td>\n",
       "      <td>170.4</td>\n",
       "      <td>401.9</td>\n",
       "      <td>38504</td>\n",
       "      <td>22633</td>\n",
       "      <td>21.5</td>\n",
       "      <td>0.0</td>\n",
       "      <td>38888.25</td>\n",
       "      <td>34.0</td>\n",
       "      <td>32.6</td>\n",
       "      <td>35.6</td>\n",
       "      <td>2.28</td>\n",
       "      <td>43.1</td>\n",
       "      <td>4.9</td>\n",
       "      <td>13.0</td>\n",
       "      <td>5.8</td>\n",
       "      <td>33.6</td>\n",
       "      <td>14.1</td>\n",
       "      <td>51.8</td>\n",
       "      <td>8.4</td>\n",
       "      <td>65.3</td>\n",
       "      <td>43.2</td>\n",
       "      <td>35.9</td>\n",
       "      <td>19.1</td>\n",
       "      <td>73.337436</td>\n",
       "      <td>23.915432</td>\n",
       "      <td>0.835128</td>\n",
       "      <td>0.492286</td>\n",
       "      <td>44.130860</td>\n",
       "      <td>3.697749</td>\n",
       "      <td>0</td>\n",
       "      <td>0</td>\n",
       "    </tr>\n",
       "    <tr>\n",
       "      <th>1</th>\n",
       "      <td>20.0</td>\n",
       "      <td>10</td>\n",
       "      <td>187.4</td>\n",
       "      <td>400.6</td>\n",
       "      <td>43883</td>\n",
       "      <td>3091</td>\n",
       "      <td>12.1</td>\n",
       "      <td>0.0</td>\n",
       "      <td>43962.70</td>\n",
       "      <td>49.5</td>\n",
       "      <td>47.7</td>\n",
       "      <td>50.5</td>\n",
       "      <td>2.21</td>\n",
       "      <td>61.0</td>\n",
       "      <td>11.9</td>\n",
       "      <td>14.8</td>\n",
       "      <td>14.2</td>\n",
       "      <td>42.3</td>\n",
       "      <td>10.0</td>\n",
       "      <td>62.2</td>\n",
       "      <td>3.1</td>\n",
       "      <td>75.6</td>\n",
       "      <td>44.3</td>\n",
       "      <td>35.3</td>\n",
       "      <td>14.8</td>\n",
       "      <td>97.907950</td>\n",
       "      <td>1.223045</td>\n",
       "      <td>0.193112</td>\n",
       "      <td>0.418410</td>\n",
       "      <td>53.957879</td>\n",
       "      <td>7.992565</td>\n",
       "      <td>0</td>\n",
       "      <td>0</td>\n",
       "    </tr>\n",
       "  </tbody>\n",
       "</table>\n",
       "</div>"
      ],
      "text/plain": [
       "   avgAnnCount  avgDeathsPerYear  TARGET_deathRate  incidenceRate  medIncome  \\\n",
       "0        104.0                46             170.4          401.9      38504   \n",
       "1         20.0                10             187.4          400.6      43883   \n",
       "\n",
       "   popEst2015  povertyPercent  studyPerCap  binnedInc  MedianAge  \\\n",
       "0       22633            21.5          0.0   38888.25       34.0   \n",
       "1        3091            12.1          0.0   43962.70       49.5   \n",
       "\n",
       "   MedianAgeMale  MedianAgeFemale  AvgHouseholdSize  PercentMarried  \\\n",
       "0           32.6             35.6              2.28            43.1   \n",
       "1           47.7             50.5              2.21            61.0   \n",
       "\n",
       "   PctNoHS18_24  PctHS18_24  PctBachDeg18_24  PctHS25_Over  PctBachDeg25_Over  \\\n",
       "0           4.9        13.0              5.8          33.6               14.1   \n",
       "1          11.9        14.8             14.2          42.3               10.0   \n",
       "\n",
       "   PctEmployed16_Over  PctUnemployed16_Over  PctPrivateCoverage  \\\n",
       "0                51.8                   8.4                65.3   \n",
       "1                62.2                   3.1                75.6   \n",
       "\n",
       "   PctEmpPrivCoverage  PctPublicCoverage  PctPublicCoverageAlone   PctWhite  \\\n",
       "0                43.2               35.9                    19.1  73.337436   \n",
       "1                44.3               35.3                    14.8  97.907950   \n",
       "\n",
       "    PctBlack  PctAsian  PctOtherRace  PctMarriedHouseholds  BirthRate  \\\n",
       "0  23.915432  0.835128      0.492286             44.130860   3.697749   \n",
       "1   1.223045  0.193112      0.418410             53.957879   7.992565   \n",
       "\n",
       "   Geography_EAST  Geography_WEST  \n",
       "0               0               0  \n",
       "1               0               0  "
      ]
     },
     "execution_count": 4,
     "metadata": {},
     "output_type": "execute_result"
    }
   ],
   "source": [
    "test_df.head(2)"
   ]
  },
  {
   "cell_type": "markdown",
   "id": "2100bdc0",
   "metadata": {},
   "source": [
    "## 3. PREPROCESSING"
   ]
  },
  {
   "cell_type": "code",
   "execution_count": 5,
   "id": "0c1c21de",
   "metadata": {},
   "outputs": [],
   "source": [
    "# Defining kfold validation\n",
    "cv = KFold(n_splits=5) "
   ]
  },
  {
   "cell_type": "code",
   "execution_count": 6,
   "id": "52a9b4ab",
   "metadata": {},
   "outputs": [],
   "source": [
    "# Defining X_train, Y_train, X_test, Y_test\n",
    "X_train = train_df.drop(columns = 'TARGET_deathRate')\n",
    "Y_train = train_df[ 'TARGET_deathRate']\n",
    "\n",
    "X_test = test_df.drop(columns = 'TARGET_deathRate')\n",
    "Y_test = test_df[ 'TARGET_deathRate']\n",
    "\n",
    "# Creating lists with the columns names\n",
    "cols = X_train.columns\n",
    "\n",
    "# Scaling the Xs\n",
    "X_train_sc = StandardScaler().fit_transform(X_train)\n",
    "X_test_sc = StandardScaler().fit_transform(X_test)\n",
    "\n",
    "# Creating Dataframes\n",
    "X_train = pd.DataFrame(X_train_sc, columns=cols)\n",
    "X_test = pd.DataFrame(X_test_sc, columns=cols)"
   ]
  },
  {
   "cell_type": "code",
   "execution_count": 7,
   "id": "5a23aa9f",
   "metadata": {},
   "outputs": [
    {
     "data": {
      "text/html": [
       "<div>\n",
       "<style scoped>\n",
       "    .dataframe tbody tr th:only-of-type {\n",
       "        vertical-align: middle;\n",
       "    }\n",
       "\n",
       "    .dataframe tbody tr th {\n",
       "        vertical-align: top;\n",
       "    }\n",
       "\n",
       "    .dataframe thead th {\n",
       "        text-align: right;\n",
       "    }\n",
       "</style>\n",
       "<table border=\"1\" class=\"dataframe\">\n",
       "  <thead>\n",
       "    <tr style=\"text-align: right;\">\n",
       "      <th></th>\n",
       "      <th>avgAnnCount</th>\n",
       "      <th>avgDeathsPerYear</th>\n",
       "      <th>incidenceRate</th>\n",
       "      <th>medIncome</th>\n",
       "      <th>popEst2015</th>\n",
       "      <th>povertyPercent</th>\n",
       "      <th>studyPerCap</th>\n",
       "      <th>binnedInc</th>\n",
       "      <th>MedianAge</th>\n",
       "      <th>MedianAgeMale</th>\n",
       "      <th>MedianAgeFemale</th>\n",
       "      <th>AvgHouseholdSize</th>\n",
       "      <th>PercentMarried</th>\n",
       "      <th>PctNoHS18_24</th>\n",
       "      <th>PctHS18_24</th>\n",
       "      <th>PctBachDeg18_24</th>\n",
       "      <th>PctHS25_Over</th>\n",
       "      <th>PctBachDeg25_Over</th>\n",
       "      <th>PctEmployed16_Over</th>\n",
       "      <th>PctUnemployed16_Over</th>\n",
       "      <th>PctPrivateCoverage</th>\n",
       "      <th>PctEmpPrivCoverage</th>\n",
       "      <th>PctPublicCoverage</th>\n",
       "      <th>PctPublicCoverageAlone</th>\n",
       "      <th>PctWhite</th>\n",
       "      <th>PctBlack</th>\n",
       "      <th>PctAsian</th>\n",
       "      <th>PctOtherRace</th>\n",
       "      <th>PctMarriedHouseholds</th>\n",
       "      <th>BirthRate</th>\n",
       "      <th>Geography_EAST</th>\n",
       "      <th>Geography_WEST</th>\n",
       "    </tr>\n",
       "  </thead>\n",
       "  <tbody>\n",
       "    <tr>\n",
       "      <th>0</th>\n",
       "      <td>-0.271292</td>\n",
       "      <td>-0.096338</td>\n",
       "      <td>1.668508</td>\n",
       "      <td>0.208378</td>\n",
       "      <td>-0.240801</td>\n",
       "      <td>-0.491120</td>\n",
       "      <td>-0.313034</td>\n",
       "      <td>0.077867</td>\n",
       "      <td>0.167429</td>\n",
       "      <td>0.104674</td>\n",
       "      <td>0.338603</td>\n",
       "      <td>-0.333879</td>\n",
       "      <td>-0.126548</td>\n",
       "      <td>-0.164616</td>\n",
       "      <td>0.832046</td>\n",
       "      <td>-0.243324</td>\n",
       "      <td>1.263284</td>\n",
       "      <td>-0.619932</td>\n",
       "      <td>0.150399</td>\n",
       "      <td>-0.733139</td>\n",
       "      <td>0.654095</td>\n",
       "      <td>0.671201</td>\n",
       "      <td>0.201664</td>\n",
       "      <td>-0.014851</td>\n",
       "      <td>0.752912</td>\n",
       "      <td>-0.490384</td>\n",
       "      <td>-0.268433</td>\n",
       "      <td>-0.505071</td>\n",
       "      <td>-0.568648</td>\n",
       "      <td>-0.796973</td>\n",
       "      <td>-0.800617</td>\n",
       "      <td>-0.376979</td>\n",
       "    </tr>\n",
       "    <tr>\n",
       "      <th>1</th>\n",
       "      <td>-0.278109</td>\n",
       "      <td>0.012097</td>\n",
       "      <td>-0.745916</td>\n",
       "      <td>-0.957016</td>\n",
       "      <td>-0.147741</td>\n",
       "      <td>0.268412</td>\n",
       "      <td>-0.313034</td>\n",
       "      <td>-0.820140</td>\n",
       "      <td>0.891139</td>\n",
       "      <td>0.952944</td>\n",
       "      <td>0.789650</td>\n",
       "      <td>0.035530</td>\n",
       "      <td>0.467398</td>\n",
       "      <td>0.414138</td>\n",
       "      <td>0.886482</td>\n",
       "      <td>-0.609210</td>\n",
       "      <td>0.213044</td>\n",
       "      <td>-0.188110</td>\n",
       "      <td>-0.717923</td>\n",
       "      <td>0.382208</td>\n",
       "      <td>-1.136868</td>\n",
       "      <td>-1.334959</td>\n",
       "      <td>1.095785</td>\n",
       "      <td>0.700492</td>\n",
       "      <td>-1.229780</td>\n",
       "      <td>-0.590300</td>\n",
       "      <td>0.164841</td>\n",
       "      <td>-0.214382</td>\n",
       "      <td>0.272010</td>\n",
       "      <td>-0.549130</td>\n",
       "      <td>-0.800617</td>\n",
       "      <td>-0.376979</td>\n",
       "    </tr>\n",
       "  </tbody>\n",
       "</table>\n",
       "</div>"
      ],
      "text/plain": [
       "   avgAnnCount  avgDeathsPerYear  incidenceRate  medIncome  popEst2015  \\\n",
       "0    -0.271292         -0.096338       1.668508   0.208378   -0.240801   \n",
       "1    -0.278109          0.012097      -0.745916  -0.957016   -0.147741   \n",
       "\n",
       "   povertyPercent  studyPerCap  binnedInc  MedianAge  MedianAgeMale  \\\n",
       "0       -0.491120    -0.313034   0.077867   0.167429       0.104674   \n",
       "1        0.268412    -0.313034  -0.820140   0.891139       0.952944   \n",
       "\n",
       "   MedianAgeFemale  AvgHouseholdSize  PercentMarried  PctNoHS18_24  \\\n",
       "0         0.338603         -0.333879       -0.126548     -0.164616   \n",
       "1         0.789650          0.035530        0.467398      0.414138   \n",
       "\n",
       "   PctHS18_24  PctBachDeg18_24  PctHS25_Over  PctBachDeg25_Over  \\\n",
       "0    0.832046        -0.243324      1.263284          -0.619932   \n",
       "1    0.886482        -0.609210      0.213044          -0.188110   \n",
       "\n",
       "   PctEmployed16_Over  PctUnemployed16_Over  PctPrivateCoverage  \\\n",
       "0            0.150399             -0.733139            0.654095   \n",
       "1           -0.717923              0.382208           -1.136868   \n",
       "\n",
       "   PctEmpPrivCoverage  PctPublicCoverage  PctPublicCoverageAlone  PctWhite  \\\n",
       "0            0.671201           0.201664               -0.014851  0.752912   \n",
       "1           -1.334959           1.095785                0.700492 -1.229780   \n",
       "\n",
       "   PctBlack  PctAsian  PctOtherRace  PctMarriedHouseholds  BirthRate  \\\n",
       "0 -0.490384 -0.268433     -0.505071             -0.568648  -0.796973   \n",
       "1 -0.590300  0.164841     -0.214382              0.272010  -0.549130   \n",
       "\n",
       "   Geography_EAST  Geography_WEST  \n",
       "0       -0.800617       -0.376979  \n",
       "1       -0.800617       -0.376979  "
      ]
     },
     "execution_count": 7,
     "metadata": {},
     "output_type": "execute_result"
    }
   ],
   "source": [
    "X_train.head(2)"
   ]
  },
  {
   "cell_type": "code",
   "execution_count": 8,
   "id": "8db72438",
   "metadata": {},
   "outputs": [
    {
     "data": {
      "text/html": [
       "<div>\n",
       "<style scoped>\n",
       "    .dataframe tbody tr th:only-of-type {\n",
       "        vertical-align: middle;\n",
       "    }\n",
       "\n",
       "    .dataframe tbody tr th {\n",
       "        vertical-align: top;\n",
       "    }\n",
       "\n",
       "    .dataframe thead th {\n",
       "        text-align: right;\n",
       "    }\n",
       "</style>\n",
       "<table border=\"1\" class=\"dataframe\">\n",
       "  <thead>\n",
       "    <tr style=\"text-align: right;\">\n",
       "      <th></th>\n",
       "      <th>avgAnnCount</th>\n",
       "      <th>avgDeathsPerYear</th>\n",
       "      <th>incidenceRate</th>\n",
       "      <th>medIncome</th>\n",
       "      <th>popEst2015</th>\n",
       "      <th>povertyPercent</th>\n",
       "      <th>studyPerCap</th>\n",
       "      <th>binnedInc</th>\n",
       "      <th>MedianAge</th>\n",
       "      <th>MedianAgeMale</th>\n",
       "      <th>MedianAgeFemale</th>\n",
       "      <th>AvgHouseholdSize</th>\n",
       "      <th>PercentMarried</th>\n",
       "      <th>PctNoHS18_24</th>\n",
       "      <th>PctHS18_24</th>\n",
       "      <th>PctBachDeg18_24</th>\n",
       "      <th>PctHS25_Over</th>\n",
       "      <th>PctBachDeg25_Over</th>\n",
       "      <th>PctEmployed16_Over</th>\n",
       "      <th>PctUnemployed16_Over</th>\n",
       "      <th>PctPrivateCoverage</th>\n",
       "      <th>PctEmpPrivCoverage</th>\n",
       "      <th>PctPublicCoverage</th>\n",
       "      <th>PctPublicCoverageAlone</th>\n",
       "      <th>PctWhite</th>\n",
       "      <th>PctBlack</th>\n",
       "      <th>PctAsian</th>\n",
       "      <th>PctOtherRace</th>\n",
       "      <th>PctMarriedHouseholds</th>\n",
       "      <th>BirthRate</th>\n",
       "      <th>Geography_EAST</th>\n",
       "      <th>Geography_WEST</th>\n",
       "    </tr>\n",
       "  </thead>\n",
       "  <tbody>\n",
       "    <tr>\n",
       "      <th>0</th>\n",
       "      <td>-0.535776</td>\n",
       "      <td>-0.482357</td>\n",
       "      <td>-0.811309</td>\n",
       "      <td>-0.695418</td>\n",
       "      <td>-0.423052</td>\n",
       "      <td>0.711498</td>\n",
       "      <td>-0.430235</td>\n",
       "      <td>-0.549236</td>\n",
       "      <td>-1.543721</td>\n",
       "      <td>-1.584673</td>\n",
       "      <td>-1.433122</td>\n",
       "      <td>-0.435373</td>\n",
       "      <td>-1.342823</td>\n",
       "      <td>-1.828754</td>\n",
       "      <td>-2.534765</td>\n",
       "      <td>-0.080493</td>\n",
       "      <td>-0.278430</td>\n",
       "      <td>0.236317</td>\n",
       "      <td>-0.256114</td>\n",
       "      <td>0.259405</td>\n",
       "      <td>0.096920</td>\n",
       "      <td>0.289552</td>\n",
       "      <td>-0.193297</td>\n",
       "      <td>-0.097635</td>\n",
       "      <td>-0.710776</td>\n",
       "      <td>1.043995</td>\n",
       "      <td>-0.071135</td>\n",
       "      <td>-0.340946</td>\n",
       "      <td>-1.173046</td>\n",
       "      <td>-1.041237</td>\n",
       "      <td>-0.805387</td>\n",
       "      <td>-0.43617</td>\n",
       "    </tr>\n",
       "    <tr>\n",
       "      <th>1</th>\n",
       "      <td>-0.691452</td>\n",
       "      <td>-0.723055</td>\n",
       "      <td>-0.835777</td>\n",
       "      <td>-0.166677</td>\n",
       "      <td>-0.658396</td>\n",
       "      <td>-0.803441</td>\n",
       "      <td>-0.430235</td>\n",
       "      <td>-0.171898</td>\n",
       "      <td>1.565093</td>\n",
       "      <td>1.453400</td>\n",
       "      <td>1.471794</td>\n",
       "      <td>-0.614601</td>\n",
       "      <td>1.305114</td>\n",
       "      <td>-0.870298</td>\n",
       "      <td>-2.331803</td>\n",
       "      <td>1.936349</td>\n",
       "      <td>1.072236</td>\n",
       "      <td>-0.582000</td>\n",
       "      <td>1.000732</td>\n",
       "      <td>-1.308176</td>\n",
       "      <td>1.098895</td>\n",
       "      <td>0.412094</td>\n",
       "      <td>-0.273350</td>\n",
       "      <td>-0.809507</td>\n",
       "      <td>0.825977</td>\n",
       "      <td>-0.518157</td>\n",
       "      <td>-0.324313</td>\n",
       "      <td>-0.361411</td>\n",
       "      <td>0.493556</td>\n",
       "      <td>1.455234</td>\n",
       "      <td>-0.805387</td>\n",
       "      <td>-0.43617</td>\n",
       "    </tr>\n",
       "  </tbody>\n",
       "</table>\n",
       "</div>"
      ],
      "text/plain": [
       "   avgAnnCount  avgDeathsPerYear  incidenceRate  medIncome  popEst2015  \\\n",
       "0    -0.535776         -0.482357      -0.811309  -0.695418   -0.423052   \n",
       "1    -0.691452         -0.723055      -0.835777  -0.166677   -0.658396   \n",
       "\n",
       "   povertyPercent  studyPerCap  binnedInc  MedianAge  MedianAgeMale  \\\n",
       "0        0.711498    -0.430235  -0.549236  -1.543721      -1.584673   \n",
       "1       -0.803441    -0.430235  -0.171898   1.565093       1.453400   \n",
       "\n",
       "   MedianAgeFemale  AvgHouseholdSize  PercentMarried  PctNoHS18_24  \\\n",
       "0        -1.433122         -0.435373       -1.342823     -1.828754   \n",
       "1         1.471794         -0.614601        1.305114     -0.870298   \n",
       "\n",
       "   PctHS18_24  PctBachDeg18_24  PctHS25_Over  PctBachDeg25_Over  \\\n",
       "0   -2.534765        -0.080493     -0.278430           0.236317   \n",
       "1   -2.331803         1.936349      1.072236          -0.582000   \n",
       "\n",
       "   PctEmployed16_Over  PctUnemployed16_Over  PctPrivateCoverage  \\\n",
       "0           -0.256114              0.259405            0.096920   \n",
       "1            1.000732             -1.308176            1.098895   \n",
       "\n",
       "   PctEmpPrivCoverage  PctPublicCoverage  PctPublicCoverageAlone  PctWhite  \\\n",
       "0            0.289552          -0.193297               -0.097635 -0.710776   \n",
       "1            0.412094          -0.273350               -0.809507  0.825977   \n",
       "\n",
       "   PctBlack  PctAsian  PctOtherRace  PctMarriedHouseholds  BirthRate  \\\n",
       "0  1.043995 -0.071135     -0.340946             -1.173046  -1.041237   \n",
       "1 -0.518157 -0.324313     -0.361411              0.493556   1.455234   \n",
       "\n",
       "   Geography_EAST  Geography_WEST  \n",
       "0       -0.805387        -0.43617  \n",
       "1       -0.805387        -0.43617  "
      ]
     },
     "execution_count": 8,
     "metadata": {},
     "output_type": "execute_result"
    }
   ],
   "source": [
    "X_test.head(2)"
   ]
  },
  {
   "cell_type": "code",
   "execution_count": 9,
   "id": "0db85095",
   "metadata": {},
   "outputs": [],
   "source": [
    "# Defining Grid for GridSearchCV\n",
    "\n",
    "grid = dict()\n",
    "grid['alpha'] = arange(0,100, 0.01)"
   ]
  },
  {
   "cell_type": "markdown",
   "id": "d31ddedd",
   "metadata": {},
   "source": [
    "## 4. RIDGE REGRESSION"
   ]
  },
  {
   "cell_type": "code",
   "execution_count": 10,
   "id": "36a176e7",
   "metadata": {},
   "outputs": [],
   "source": [
    "# Instantiating GridSearchCV \n",
    "\n",
    "Ridge_search = GridSearchCV(Ridge(max_iter = 100000, random_state = 126), \n",
    "                            grid, scoring='neg_mean_squared_error', cv=cv, n_jobs=-1, verbose = 1)"
   ]
  },
  {
   "cell_type": "code",
   "execution_count": 11,
   "id": "6c34e30f",
   "metadata": {},
   "outputs": [
    {
     "name": "stdout",
     "output_type": "stream",
     "text": [
      "Fitting 5 folds for each of 10000 candidates, totalling 50000 fits\n"
     ]
    }
   ],
   "source": [
    "# Searching for the best parameters \n",
    "\n",
    "CV_Ridge_results = Ridge_search.fit(X_train, Y_train)"
   ]
  },
  {
   "cell_type": "code",
   "execution_count": 12,
   "id": "24174ece",
   "metadata": {},
   "outputs": [],
   "source": [
    "# Best alpha parameter \n",
    "\n",
    "alpha_ridge = CV_Ridge_results.best_params_['alpha']"
   ]
  },
  {
   "cell_type": "code",
   "execution_count": 13,
   "id": "33ddbbd4",
   "metadata": {},
   "outputs": [],
   "source": [
    "# Instantiating the best model\n",
    "\n",
    "RidgeModel = Ridge(max_iter = 100000, random_state = 126, \n",
    "                   alpha = alpha_ridge).fit(X_train ,Y_train)"
   ]
  },
  {
   "cell_type": "code",
   "execution_count": 14,
   "id": "745f72f4",
   "metadata": {},
   "outputs": [],
   "source": [
    "# Getting the Ridge R^2\n",
    "\n",
    "Ridge_R2 = RidgeModel.score(X_train, Y_train)"
   ]
  },
  {
   "cell_type": "code",
   "execution_count": 15,
   "id": "302e83cd",
   "metadata": {},
   "outputs": [],
   "source": [
    "# Getting predictions and training MSE \n",
    "\n",
    "RidgePredictions = RidgeModel.predict(X_train)\n",
    "Ridge_Training_MSE = np.round(mean_squared_error(Y_train, RidgePredictions),2)"
   ]
  },
  {
   "cell_type": "code",
   "execution_count": 16,
   "id": "68e34272",
   "metadata": {},
   "outputs": [],
   "source": [
    "# Getting kfold MSE \n",
    "\n",
    "ridge_cv_MSE = round(np.mean(cross_val_score(RidgeModel, X_train, Y_train, cv=cv, \n",
    "                                          scoring='neg_mean_squared_error', error_score='raise') * (-1)),1)"
   ]
  },
  {
   "cell_type": "code",
   "execution_count": 17,
   "id": "87413986",
   "metadata": {},
   "outputs": [],
   "source": [
    "# Getting predictions and test MSE \n",
    "\n",
    "RIDGE_predictions = RidgeModel.predict(X_test)\n",
    "RIDGE_Test_MSE = round(mean_squared_error(Y_test, RIDGE_predictions), 2)"
   ]
  },
  {
   "cell_type": "code",
   "execution_count": 18,
   "id": "197176e0",
   "metadata": {},
   "outputs": [],
   "source": [
    "# Dictionary that holds the performance metrics \n",
    "\n",
    "dict1 = {'Ridge Regression': (np.round(Ridge_R2,3), Ridge_Training_MSE,\n",
    "                                            ridge_cv_MSE, RIDGE_Test_MSE )}"
   ]
  },
  {
   "cell_type": "code",
   "execution_count": 19,
   "id": "96d53923",
   "metadata": {},
   "outputs": [],
   "source": [
    "# Creating a dataframe to easily present the results \n",
    "\n",
    "Evaluation_df = pd.DataFrame(dict1, index=['R^2','Training_MSE','Training_MSE (KFold)', 'Test_MSE'])"
   ]
  },
  {
   "cell_type": "code",
   "execution_count": 20,
   "id": "1a52d351",
   "metadata": {
    "scrolled": true
   },
   "outputs": [
    {
     "data": {
      "text/html": [
       "<div>\n",
       "<style scoped>\n",
       "    .dataframe tbody tr th:only-of-type {\n",
       "        vertical-align: middle;\n",
       "    }\n",
       "\n",
       "    .dataframe tbody tr th {\n",
       "        vertical-align: top;\n",
       "    }\n",
       "\n",
       "    .dataframe thead th {\n",
       "        text-align: right;\n",
       "    }\n",
       "</style>\n",
       "<table border=\"1\" class=\"dataframe\">\n",
       "  <thead>\n",
       "    <tr style=\"text-align: right;\">\n",
       "      <th></th>\n",
       "      <th>Ridge Regression</th>\n",
       "    </tr>\n",
       "  </thead>\n",
       "  <tbody>\n",
       "    <tr>\n",
       "      <th>R^2</th>\n",
       "      <td>0.512</td>\n",
       "    </tr>\n",
       "    <tr>\n",
       "      <th>Training_MSE</th>\n",
       "      <td>352.830</td>\n",
       "    </tr>\n",
       "    <tr>\n",
       "      <th>Training_MSE (KFold)</th>\n",
       "      <td>369.600</td>\n",
       "    </tr>\n",
       "    <tr>\n",
       "      <th>Test_MSE</th>\n",
       "      <td>314.350</td>\n",
       "    </tr>\n",
       "  </tbody>\n",
       "</table>\n",
       "</div>"
      ],
      "text/plain": [
       "                      Ridge Regression\n",
       "R^2                              0.512\n",
       "Training_MSE                   352.830\n",
       "Training_MSE (KFold)           369.600\n",
       "Test_MSE                       314.350"
      ]
     },
     "execution_count": 20,
     "metadata": {},
     "output_type": "execute_result"
    }
   ],
   "source": [
    "# Displaying the metrics\n",
    "\n",
    "Evaluation_df"
   ]
  },
  {
   "cell_type": "markdown",
   "id": "dcd5f7c6",
   "metadata": {},
   "source": [
    "## 5. LASSO REGRESSION"
   ]
  },
  {
   "cell_type": "code",
   "execution_count": 21,
   "id": "89b79ec3",
   "metadata": {},
   "outputs": [],
   "source": [
    "# Instantiating GridSearchCV \n",
    "\n",
    "Lasso_search = GridSearchCV(Lasso(max_iter = 100000, random_state = 126), \n",
    "                            grid, scoring='neg_mean_squared_error', cv=cv, n_jobs=-1, verbose = 1)"
   ]
  },
  {
   "cell_type": "code",
   "execution_count": null,
   "id": "c9322a26",
   "metadata": {},
   "outputs": [
    {
     "name": "stdout",
     "output_type": "stream",
     "text": [
      "Fitting 5 folds for each of 10000 candidates, totalling 50000 fits\n"
     ]
    }
   ],
   "source": [
    "# Searching for the best parameters\n",
    "\n",
    "CV_Lasso_results = Lasso_search.fit(X_train, Y_train)"
   ]
  },
  {
   "cell_type": "code",
   "execution_count": null,
   "id": "af067013",
   "metadata": {},
   "outputs": [],
   "source": [
    "# Best alpha parameter \n",
    "\n",
    "alpha_lasso = CV_Lasso_results.best_params_['alpha']"
   ]
  },
  {
   "cell_type": "code",
   "execution_count": null,
   "id": "855807ec",
   "metadata": {},
   "outputs": [],
   "source": [
    "# Instantiating the best model\n",
    "\n",
    "LassoModel = Lasso(max_iter = 100000, random_state = 126, \n",
    "                   alpha = alpha_lasso).fit(X_train ,Y_train)"
   ]
  },
  {
   "cell_type": "code",
   "execution_count": null,
   "id": "f359fb9c",
   "metadata": {},
   "outputs": [],
   "source": [
    "# Getting the Lasso R^2\n",
    "\n",
    "Lasso_R2 = LassoModel.score(X_train, Y_train)"
   ]
  },
  {
   "cell_type": "code",
   "execution_count": null,
   "id": "75692d82",
   "metadata": {},
   "outputs": [],
   "source": [
    "# Getting predictions and training MSE \n",
    "\n",
    "LassoPredictions = LassoModel.predict(X_train)\n",
    "Lasso_Training_MSE = np.round(mean_squared_error(Y_train, LassoPredictions),2)"
   ]
  },
  {
   "cell_type": "code",
   "execution_count": null,
   "id": "124ae75d",
   "metadata": {},
   "outputs": [],
   "source": [
    "# Getting kfold MSE \n",
    "\n",
    "lasso_cv_MSE = round(np.mean(cross_val_score(LassoModel, X_train, Y_train, cv=cv, \n",
    "                                          scoring='neg_mean_squared_error', error_score='raise') * (-1)),1)"
   ]
  },
  {
   "cell_type": "code",
   "execution_count": null,
   "id": "7df1e752",
   "metadata": {},
   "outputs": [],
   "source": [
    "# Getting predictions and test MSE \n",
    "\n",
    "LASSO_predictions = LassoModel.predict(X_test)\n",
    "LASSO_Test_MSE = round(mean_squared_error(Y_test, LASSO_predictions), 2)"
   ]
  },
  {
   "cell_type": "code",
   "execution_count": null,
   "id": "8258bf0b",
   "metadata": {},
   "outputs": [],
   "source": [
    "# Dictionary that holds the performance metrics \n",
    "\n",
    "dict2 = {'Lasso Regression': (np.round(Lasso_R2,3), Lasso_Training_MSE,\n",
    "                                            lasso_cv_MSE, LASSO_Test_MSE )}"
   ]
  },
  {
   "cell_type": "code",
   "execution_count": null,
   "id": "76953788",
   "metadata": {},
   "outputs": [],
   "source": [
    "# Creating a dataframe to easily present the results \n",
    "\n",
    "Evaluation_df1 = pd.DataFrame(dict2, index=['R^2','Training_MSE','Training_MSE (KFold)', 'Test_MSE'])"
   ]
  },
  {
   "cell_type": "code",
   "execution_count": null,
   "id": "3f9e86ef",
   "metadata": {
    "scrolled": true
   },
   "outputs": [],
   "source": [
    "# Displaying the metrics\n",
    "\n",
    "Evaluation_df1"
   ]
  },
  {
   "cell_type": "markdown",
   "id": "74a085a4",
   "metadata": {},
   "source": [
    "## 6. RESULTS"
   ]
  },
  {
   "cell_type": "markdown",
   "id": "3c8cba21",
   "metadata": {},
   "source": [
    "__Aggragated Results__"
   ]
  },
  {
   "cell_type": "code",
   "execution_count": null,
   "id": "6eca449a",
   "metadata": {},
   "outputs": [],
   "source": [
    "Linear_Regression_Models_Part3_Results = pd.concat([Evaluation_df, Evaluation_df1], axis = 1)\n",
    "Linear_Regression_Models_Part3_Results"
   ]
  },
  {
   "cell_type": "markdown",
   "id": "4746956e",
   "metadata": {},
   "source": [
    "__Residuals's Plots__"
   ]
  },
  {
   "cell_type": "code",
   "execution_count": null,
   "id": "044c91a5",
   "metadata": {},
   "outputs": [],
   "source": [
    "residuals_ridge = RidgePredictions - Y_train \n",
    "\n",
    "sns.set_style(\"white\")\n",
    "    \n",
    "plt.figure(figsize=(5,4))\n",
    "    \n",
    "plt.hist(residuals_ridge, bins = 20, color = \"sandybrown\")\n",
    "    \n",
    "plt.title(label = \"Distribution of Residuals (Ridge Regression)\" , fontsize = 14, weight = 'bold')\n",
    "    \n",
    "sns.despine()\n",
    "    \n",
    "plt.show()"
   ]
  },
  {
   "cell_type": "code",
   "execution_count": null,
   "id": "f1796c59",
   "metadata": {
    "scrolled": false
   },
   "outputs": [],
   "source": [
    "residuals_lasso = LassoPredictions - Y_train \n",
    "\n",
    "sns.set_style(\"white\")\n",
    "    \n",
    "plt.figure(figsize=(5,4))\n",
    "    \n",
    "plt.hist(residuals_lasso, bins = 20, color = \"darkorange\")\n",
    "    \n",
    "plt.title(label = \"Distribution of Residuals (Lasso Regression)\" , fontsize = 14, weight = 'bold')\n",
    "    \n",
    "sns.despine()\n",
    "    \n",
    "plt.show()"
   ]
  },
  {
   "cell_type": "markdown",
   "id": "ca5d4ebb",
   "metadata": {},
   "source": [
    "Both models yield comparable results."
   ]
  },
  {
   "cell_type": "markdown",
   "id": "ca3fff45",
   "metadata": {},
   "source": [
    "__Examining the coefficients__"
   ]
  },
  {
   "cell_type": "code",
   "execution_count": null,
   "id": "9778000a",
   "metadata": {
    "scrolled": true
   },
   "outputs": [],
   "source": [
    "# Creating empty dictionaries\n",
    "dict3 = {}\n",
    "\n",
    "dict4 = {}\n",
    "\n",
    "# Update the dictionaries with the variables' names and the corresponding coefficients  for each model\n",
    "for i in range(0, len(cols)):\n",
    "    dict3.update({cols[i] : list(RidgeModel.coef_)[i]})\n",
    "\n",
    "for i in range(0, len(cols)):\n",
    "    dict4.update({cols[i] : list(LassoModel.coef_)[i]})\n",
    "    \n",
    "# Turning the dictionaries into series\n",
    "coef_df_ridge = pd.DataFrame(dict3, index=['Ridge Coefficients'])\n",
    "\n",
    "coef_df_lasso = pd.DataFrame(dict4, index=['Lasso Coefficients'])\n",
    "\n",
    "# Combining the series into a df\n",
    "coef_df = pd.concat([coef_df_ridge, coef_df_lasso], axis = 0)\n",
    "coef_df"
   ]
  },
  {
   "cell_type": "markdown",
   "id": "75aca88e",
   "metadata": {},
   "source": [
    "We can observe that the Lasso model effectively sets the coefficients of the \"redundant\" predictors (medIncome, povertyPercent, MedianAgeFemale) to zero."
   ]
  },
  {
   "cell_type": "markdown",
   "id": "6eef04bd",
   "metadata": {},
   "source": [
    "__Saving the Results__"
   ]
  },
  {
   "cell_type": "code",
   "execution_count": null,
   "id": "21c4acfe",
   "metadata": {},
   "outputs": [],
   "source": [
    "Linear_Regression_Models_Part3_Results.to_csv(r'Linear_Regression_Models_Part3_Results.csv', index=True, \n",
    "                                              index_label= 'Metrics')"
   ]
  }
 ],
 "metadata": {
  "kernelspec": {
   "display_name": "Python 3 (ipykernel)",
   "language": "python",
   "name": "python3"
  },
  "language_info": {
   "codemirror_mode": {
    "name": "ipython",
    "version": 3
   },
   "file_extension": ".py",
   "mimetype": "text/x-python",
   "name": "python",
   "nbconvert_exporter": "python",
   "pygments_lexer": "ipython3",
   "version": "3.11.5"
  }
 },
 "nbformat": 4,
 "nbformat_minor": 5
}
